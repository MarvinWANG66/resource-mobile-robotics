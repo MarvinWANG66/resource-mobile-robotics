{
 "cells": [
  {
   "cell_type": "markdown",
   "metadata": {
    "slideshow": {
     "slide_type": "notes"
    }
   },
   "source": [
    "University of Michigan - ROB 101 Computational Linear Algebra"
   ]
  },
  {
   "cell_type": "markdown",
   "metadata": {
    "slideshow": {
     "slide_type": "slide"
    }
   },
   "source": [
    "## Newton-Raphson for Vector Functions\n",
    "\n",
    "- Let $x_k$ be our current approximation of a root of the function $f$. \n",
    "- We write the linear approximation of $f$ about $x_k$ as $$f(x) \\approx f(x_k) + A (x-x_k), \\quad A= \\frac{\\partial f(x_k)}{\\partial x}.$$"
   ]
  },
  {
   "cell_type": "markdown",
   "metadata": {
    "slideshow": {
     "slide_type": "slide"
    }
   },
   "source": [
    "### Newton-Raphson for Vector Functions\n",
    "\n",
    "- Start with an initial guess $x_0$ ($k=0$).\n",
    "- Solve the linear system $A \\Delta x_k = -f(x_k)$.\n",
    "- Update the estimated root $x_{k+1} = x_k + \\Delta x_k$.\n",
    "- Repeat (go back to 2) until convergence."
   ]
  },
  {
   "cell_type": "code",
   "execution_count": 1,
   "metadata": {
    "scrolled": false,
    "slideshow": {
     "slide_type": "slide"
    }
   },
   "outputs": [
    {
     "data": {
      "text/plain": [
       "Jacobian (generic function with 2 methods)"
      ]
     },
     "execution_count": 1,
     "metadata": {},
     "output_type": "execute_result"
    }
   ],
   "source": [
    "using LinearAlgebra\n",
    "\n",
    "function Jacobian(func, x0, h = 0.001) \n",
    "    # Numerical Jacobian of f:R^m -> R^n\n",
    "    m = length(x0);  # Domain dimension\n",
    "    f0 = func(x0); \n",
    "    n = length(f0); # Range dimension\n",
    "    \n",
    "    if m == 1 # f:R -> R^n\n",
    "        return (func(x0 .+ h) .- func(x0 .- h)) ./ (2*h)\n",
    "    else\n",
    "        Im = Matrix(1.0I, m, m); # Create standard basis for I_m\n",
    "        A = zeros(n,m); # Create Jacobian matrix\n",
    "        # Compute and fill in the columns of the Jacobian using central differences\n",
    "        for i = 1:m\n",
    "            ei = Im[:,i:i]\n",
    "            A[:,i] = (func(x0 + h*ei) - func(x0 - h*ei)) / (2*h);\n",
    "        end\n",
    "        return A\n",
    "    end\n",
    "end"
   ]
  },
  {
   "cell_type": "markdown",
   "metadata": {
    "slideshow": {
     "slide_type": "slide"
    }
   },
   "source": [
    "## Example 1\n",
    "\n",
    "Find a root of $F:\\mathbb{R}^4 \\to \\mathbb{R}^4$ near $x_0=\\left[\\begin{array}{cccc} -2.0 & 3.0 & \\pi &-1.0\\end{array} \\right]^\\top$ for\n",
    " \n",
    "$$\n",
    "F(x)=\\left[\\begin{array}{c}\n",
    "   x_1 + 2 x_2 - x_1 (x_1 + 4 x_2) - x_2 (4 x_1 + 10 x_2) + 3 \\\\\n",
    " 3 x_1 + 4 x_2 - x_1 (x_1 + 4 x_2) - x_2 (4 x_1 + 10 x_2) + 4  \\\\\n",
    "                                0.5 \\cos(x_1) + x_3 -\\left( \\sin(x_3) \\right)^7  \\\\\n",
    "                              -  2(x_2)^2  \\sin(x_1) + (x_4)^3\n",
    "\\end{array} \\right].\n",
    "$$"
   ]
  },
  {
   "cell_type": "code",
   "execution_count": 2,
   "metadata": {
    "slideshow": {
     "slide_type": "slide"
    }
   },
   "outputs": [
    {
     "name": "stdout",
     "output_type": "stream",
     "text": [
      "myfunc = f = f\n",
      "x0 = rand(4, 1) = [0.2842725047144292; 0.5118962734466348; 0.05424087334106176; 0.06382970779879749]\n",
      "f(x0): [0.4427319605323068, 3.0350695168544353, 0.5341738416692585, -0.14672177804768308]\n",
      "A: [-3.6637151970015935 -10.512105506648162 0.0 0.0; -1.6637151970018138 -8.51210550664816 0.0 0.0; -0.14022959044224237 0.0 0.9999998222228745 0.0; -0.5030422242322391 -0.5742641339052112 0.0 0.012223694793034312]\n"
     ]
    }
   ],
   "source": [
    "function f(x) # f:R^4 -> R^4\n",
    "    f1 = x[1]+2*x[2]-x[1]*(x[1]+4*x[2])-x[2]*(4*x[1]+10*x[2])+3;\n",
    "    f2 = 3*x[1]+4*x[2]-x[1]*(x[1]+4*x[2])-x[2]*(4*x[1]+10*x[2])+4;\n",
    "    f3 = 0.5*cos(x[1])+x[3]-sin(x[3])^7;\n",
    "    f4 = -2*x[2]^2*sin(x[1])+x[4]^3;\n",
    "    return [f1; f2; f3; f4]\n",
    "end\n",
    "\n",
    "# Run this for testing\n",
    "@show myfunc = f;\n",
    "@show x0 = rand(4,1) # initial guess, x0\n",
    "println(\"f(x0): \", myfunc(x0))\n",
    "println(\"A: \", Jacobian(myfunc, x0))"
   ]
  },
  {
   "cell_type": "code",
   "execution_count": 3,
   "metadata": {
    "slideshow": {
     "slide_type": "slide"
    }
   },
   "outputs": [
    {
     "name": "stdout",
     "output_type": "stream",
     "text": [
      "Converged at iteration: N = 7\n",
      "root: [-2.2595730873836657, 1.7595730873836666, 0.3180893310400119, -1.6845806986434577]\n",
      "f(root): [-5.329070518200751e-15, -3.552713678800501e-15, -4.358492733391728e-17, -3.531841485937548e-10]\n"
     ]
    }
   ],
   "source": [
    "myfunc = f;\n",
    "x0 = [-2.; 3.; π; -1.]; # initial guess\n",
    "delta = 1e-9; # set a convergence threshold\n",
    "# set a max iteration so we don't get stuck in the loop forever!\n",
    "MAX_ITER = 100; \n",
    "N = 1; # counter for iteration\n",
    "x = x0; # root variable\n",
    "# let the fun begin!\n",
    "while N < MAX_ITER\n",
    "    fk = myfunc(x); # evaluate f at current guess, x0\n",
    "    A = Jacobian(myfunc, x); # compute Jacobian\n",
    "    if abs(det(A)) < delta\n",
    "        println(\"Newton-Raphson method did not converge; Jacobian is singular.\")\n",
    "        break\n",
    "    else\n",
    "        dx = -A \\ fk; # solve the linear system\n",
    "    end\n",
    "    if norm(dx) < delta\n",
    "        println(\"Converged at iteration: N = \", N)\n",
    "        break\n",
    "    else\n",
    "        x += dx;\n",
    "    end\n",
    "    N += 1;\n",
    "end\n",
    "\n",
    "print(\"root: \", x, \"\\n\")\n",
    "print(\"f(root): \", myfunc(x), \"\\n\")"
   ]
  },
  {
   "cell_type": "markdown",
   "metadata": {
    "slideshow": {
     "slide_type": "slide"
    }
   },
   "source": [
    "### [Automatic Differentiation (autodiff)](https://en.wikipedia.org/wiki/Automatic_differentiation)\n",
    "\n",
    "- Automatic differentiation is distinct from symbolic differentiation and numerical differentiation. \n",
    "- Symbolic differentiation faces the difficulty of converting a computer program into a single mathematical expression and can lead to inefficient code. \n",
    "- Numerical differentiation (the method of finite differences) can introduce round-off errors in the discretization process and cancellation. \n",
    "- Both of these classical methods have problems with calculating higher derivatives, where complexity and errors increase.\n",
    "- Finally, both of these classical methods are slow at computing partial derivatives of a function with respect to many inputs, as is needed for gradient-based optimization algorithms. \n",
    "- Automatic differentiation solves all of these problems."
   ]
  },
  {
   "cell_type": "code",
   "execution_count": 4,
   "metadata": {
    "slideshow": {
     "slide_type": "slide"
    }
   },
   "outputs": [
    {
     "name": "stderr",
     "output_type": "stream",
     "text": [
      "\u001b[32m\u001b[1m   Updating\u001b[22m\u001b[39m registry at `C:\\Users\\manig\\.julia\\registries\\General`\n"
     ]
    },
    {
     "name": "stdout",
     "output_type": "stream",
     "text": [
      "\u001b[?25l"
     ]
    },
    {
     "name": "stderr",
     "output_type": "stream",
     "text": [
      "\u001b[32m\u001b[1m   Updating\u001b[22m\u001b[39m git-repo `https://github.com/JuliaRegistries/General.git`\n"
     ]
    },
    {
     "name": "stdout",
     "output_type": "stream",
     "text": [
      "\u001b[2K\u001b[?25h[1mFetching:\u001b[22m\u001b[39m [========================================>]  99.9 %                                       ]  0.8 %>                                       ]  1.0 %3 % %                                       ]  2.4 % [==>                                      ]  2.8 %.3 %.4 %                                      ]  3.6 %                                      ]  3.8 %>                                      ]  4.1 %==>                                      ]  4.5 %4.6 % %4.9 %.3 %\u001b[36m\u001b[1mFetching:\u001b[22m\u001b[39m [===>                                     ]  6.1 % [===>                                     ]  6.4 % [===>                                     ]  6.7 % [===>                                     ]  6.9 %.9 %                                    ]  8.7 %]  9.0 % % % %9.9 %.1 %>                                   ]  11.0 %=====>                                   ]  11.2 %>                                   ]  11.5 %12.0 %>                                  ]  12.6 %.4 %.7 %]  14.6 % [======>                                  ]  14.8 %]  15.2 % %.5 %15.9 % [=======>                                 ]  16.2 %]  16.4 %]  16.9 %=======>                                 ]  17.2 %5 %7 %]  18.0 % [========>                                ]  18.2 %\u001b[36m\u001b[1mFetching:\u001b[22m\u001b[39m [========>                                ]  18.8 %.0 %                                ]  19.6 %>                                ]  19.9 %20.5 %]  20.8 % [=========>                               ]  21.2 % % [=========>                               ]  21.8 %.1 %3 %3 %\u001b[36m\u001b[1mFetching:\u001b[22m\u001b[39m [==========>                              ]  23.6 %23.8 %24.2 %24.5 %>                             ]  25.2 %5 %25.8 %                             ]  26.0 %.2 %]  27.0 %5 %.9 %]  28.1 %>                            ]  28.4 % [============>                            ]  28.7 % [============>                            ]  28.8 %29.2 %.8 % [=============>                           ]  30.2 %5 %31.2 % [=============>                           ]  31.9 %.8 %0 %>                          ]  33.6 %>                          ]  33.9 % %                          ]  34.6 % [===============>                         ]  35.1 %>                         ]  36.3 %5 %>                         ]  36.7 %8 %\u001b[36m\u001b[1mFetching:\u001b[22m\u001b[39m [===============>                         ]  37.3 %]  37.6 %.8 % [================>                        ]  38.5 %]  39.1 % [================>                        ]  39.3 %]  39.6 % [================>                        ]  39.7 %0.0 %.5 %\u001b[36m\u001b[1mFetching:\u001b[22m\u001b[39m [=================>                       ]  40.8 %\u001b[36m\u001b[1mFetching:\u001b[22m\u001b[39m [=================>                       ]  41.3 %.7 %\u001b[36m\u001b[1mFetching:\u001b[22m\u001b[39m [=================>                       ]  42.0 %>                       ]  42.2 % % [==================>                      ]  42.7 % %.9 %\u001b[36m\u001b[1mFetching:\u001b[22m\u001b[39m [==================>                      ]  44.6 %]  44.7 %>                     ]  45.1 % [===================>                     ]  45.3 %>                     ]  46.0 %]  46.3 %\u001b[36m\u001b[1mFetching:\u001b[22m\u001b[39m [===================>                     ]  46.9 % [===================>                     ]  47.1 % [====================>                    ]  47.5 % % [====================>                    ]  49.7 % [====================>                    ]  50.0 % %4 %>                   ]  50.8 %                   ]  51.2 %\u001b[36m\u001b[1mFetching:\u001b[22m\u001b[39m [=====================>                   ]  51.7 %52.3 % % %>                  ]  53.1 %\u001b[36m\u001b[1mFetching:\u001b[22m\u001b[39m [======================>                  ]  53.4 %.2 % %]  54.8 % [=======================>                 ]  55.2 %=======================>                 ]  55.6 %55.9 %]  56.4 %]  57.1 %]  57.6 %57.8 %.0 %                ]  58.5 %58.8 %.1 %]  59.4 %>                ]  59.6 % [========================>                ]  60.0 %60.3 %.4 %.6 %61.0 %]  61.2 %=========================>               ]  62.0 %              ]  62.7 % %>              ]  64.7 %0 %.9 % [===========================>             ]  66.2 %9 %0 % [============================>            ]  68.4 % [============================>            ]  69.5 % [=============================>           ]  70.1 % [=============================>           ]  70.7 % [=============================>           ]  71.0 %.3 % %.4 % %]  73.0 %>          ]  73.2 %\u001b[36m\u001b[1mFetching:\u001b[22m\u001b[39m [==============================>          ]  73.5 %>          ]  73.7 %          ]  74.7 %]  74.9 %.6 %\u001b[36m\u001b[1mFetching:\u001b[22m\u001b[39m [===============================>         ]  76.0 % [===============================>         ]  76.3 %\u001b[36m\u001b[1mFetching:\u001b[22m\u001b[39m [===============================>         ]  76.5 %77.4 %]  77.6 %        ]  78.0 %78.3 %        ]  78.6 % % [================================>        ]  79.1 %80.4 %6 % %.1 % [=================================>       ]  81.4 % [=================================>       ]  81.7 %>       ]  82.0 %82.4 %6 %>      ]  83.2 %      ]  83.5 % % [==================================>      ]  84.8 %>     ]  85.2 %.3 % [===================================>     ]  85.9 %1 %>     ]  86.8 %.3 % [====================================>    ]  87.6 %]  87.9 %88.2 % %0 %.3 %89.8 %3 % %90.8 %>   ]  91.9 %.3 %.7 %1 % [======================================>  ]  93.6 %94.0 %0 %]  95.2 %95.8 % [=======================================> ]  96.1 % %> ]  97.1 %]  97.4 % % [========================================>]  98.2 %99.4 %]  99.6 %"
     ]
    },
    {
     "name": "stderr",
     "output_type": "stream",
     "text": [
      "\u001b[32m\u001b[1m  Resolving\u001b[22m\u001b[39m package versions...\n",
      "\u001b[32m\u001b[1m  Installed\u001b[22m\u001b[39m libfdk_aac_jll ─────── v0.1.6+4\n",
      "\u001b[32m\u001b[1m  Installed\u001b[22m\u001b[39m FFTW_jll ───────────── v3.3.9+8\n",
      "\u001b[32m\u001b[1m  Installed\u001b[22m\u001b[39m x265_jll ───────────── v3.0.0+3\n",
      "\u001b[32m\u001b[1m  Installed\u001b[22m\u001b[39m FreeType2_jll ──────── v2.10.1+5\n",
      "\u001b[32m\u001b[1m  Installed\u001b[22m\u001b[39m libvorbis_jll ──────── v1.3.6+6\n",
      "\u001b[32m\u001b[1m  Installed\u001b[22m\u001b[39m FriBidi_jll ────────── v1.0.5+6\n",
      "\u001b[32m\u001b[1m  Installed\u001b[22m\u001b[39m OpenSpecFun_jll ────── v0.5.3+4\n",
      "\u001b[32m\u001b[1m  Installed\u001b[22m\u001b[39m ForwardDiff ────────── v0.10.23\n",
      "\u001b[32m\u001b[1m  Installed\u001b[22m\u001b[39m LAME_jll ───────────── v3.100.0+3\n",
      "\u001b[32m\u001b[1m  Installed\u001b[22m\u001b[39m libpng_jll ─────────── v1.6.37+6\n",
      "\u001b[32m\u001b[1m  Installed\u001b[22m\u001b[39m Opus_jll ───────────── v1.3.1+3\n",
      "\u001b[32m\u001b[1m  Installed\u001b[22m\u001b[39m IntelOpenMP_jll ────── v2018.0.3+2\n",
      "\u001b[32m\u001b[1m  Installed\u001b[22m\u001b[39m libass_jll ─────────── v0.14.0+4\n",
      "\u001b[32m\u001b[1m  Installed\u001b[22m\u001b[39m OpenSSL_jll ────────── v1.1.1+6\n",
      "\u001b[32m\u001b[1m  Installed\u001b[22m\u001b[39m Ogg_jll ────────────── v1.3.4+2\n",
      "\u001b[32m\u001b[1m  Installed\u001b[22m\u001b[39m ZeroMQ_jll ─────────── v4.3.2+6\n",
      "\u001b[32m\u001b[1m  Installed\u001b[22m\u001b[39m Zlib_jll ───────────── v1.2.11+18\n",
      "\u001b[32m\u001b[1m  Installed\u001b[22m\u001b[39m IrrationalConstants ── v0.1.1\n",
      "\u001b[32m\u001b[1m  Installed\u001b[22m\u001b[39m Bzip2_jll ──────────── v1.0.6+5\n",
      "\u001b[32m\u001b[1m  Installed\u001b[22m\u001b[39m CommonSubexpressions ─ v0.3.0\n",
      "\u001b[32m\u001b[1m  Installed\u001b[22m\u001b[39m Preferences ────────── v1.2.2\n",
      "\u001b[32m\u001b[1m  Installed\u001b[22m\u001b[39m Compat ─────────────── v3.40.0\n",
      "\u001b[32m\u001b[1m  Installed\u001b[22m\u001b[39m LogExpFunctions ────── v0.3.5\n",
      "\u001b[32m\u001b[1m  Installed\u001b[22m\u001b[39m DocStringExtensions ── v0.8.6\n",
      "\u001b[32m\u001b[1m  Installed\u001b[22m\u001b[39m Artifacts ──────────── v1.3.0\n",
      "\u001b[32m\u001b[1m  Installed\u001b[22m\u001b[39m libsodium_jll ──────── v1.0.19+0\n",
      "\u001b[32m\u001b[1m  Installed\u001b[22m\u001b[39m ChangesOfVariables ─── v0.1.1\n",
      "\u001b[32m\u001b[1m  Installed\u001b[22m\u001b[39m DiffResults ────────── v1.0.3\n",
      "\u001b[32m\u001b[1m  Installed\u001b[22m\u001b[39m DiffRules ──────────── v1.4.0\n",
      "\u001b[32m\u001b[1m  Installed\u001b[22m\u001b[39m JLLWrappers ────────── v1.3.0\n",
      "\u001b[32m\u001b[1m  Installed\u001b[22m\u001b[39m ChainRulesCore ─────── v1.11.1\n",
      "\u001b[32m\u001b[1m  Installed\u001b[22m\u001b[39m TOML ───────────────── v1.0.3\n",
      "\u001b[32m\u001b[1m  Installed\u001b[22m\u001b[39m InverseFunctions ───── v0.1.2\n",
      "\u001b[32m\u001b[1m   Updating\u001b[22m\u001b[39m `C:\\Users\\manig\\.julia\\environments\\v1.4\\Project.toml`\n",
      " \u001b[90m [f6369f11]\u001b[39m\u001b[92m + ForwardDiff v0.10.23\u001b[39m\n",
      "\u001b[32m\u001b[1m   Updating\u001b[22m\u001b[39m `C:\\Users\\manig\\.julia\\environments\\v1.4\\Manifest.toml`\n",
      " \u001b[90m [56f22d72]\u001b[39m\u001b[92m + Artifacts v1.3.0\u001b[39m\n",
      " \u001b[90m [6e34b625]\u001b[39m\u001b[93m ↑ Bzip2_jll v1.0.6+2 ⇒ v1.0.6+5\u001b[39m\n",
      " \u001b[90m [d360d2e6]\u001b[39m\u001b[92m + ChainRulesCore v1.11.1\u001b[39m\n",
      " \u001b[90m [9e997f8a]\u001b[39m\u001b[92m + ChangesOfVariables v0.1.1\u001b[39m\n",
      " \u001b[90m [bbf7d656]\u001b[39m\u001b[92m + CommonSubexpressions v0.3.0\u001b[39m\n",
      " \u001b[90m [34da2185]\u001b[39m\u001b[92m + Compat v3.40.0\u001b[39m\n",
      " \u001b[90m [163ba53b]\u001b[39m\u001b[92m + DiffResults v1.0.3\u001b[39m\n",
      " \u001b[90m [b552c78f]\u001b[39m\u001b[92m + DiffRules v1.4.0\u001b[39m\n",
      " \u001b[90m [ffbed154]\u001b[39m\u001b[92m + DocStringExtensions v0.8.6\u001b[39m\n",
      " \u001b[90m [f5851436]\u001b[39m\u001b[93m ↑ FFTW_jll v3.3.9+5 ⇒ v3.3.9+8\u001b[39m\n",
      " \u001b[90m [f6369f11]\u001b[39m\u001b[92m + ForwardDiff v0.10.23\u001b[39m\n",
      " \u001b[90m [d7e528f0]\u001b[39m\u001b[93m ↑ FreeType2_jll v2.10.1+2 ⇒ v2.10.1+5\u001b[39m\n",
      " \u001b[90m [559328eb]\u001b[39m\u001b[93m ↑ FriBidi_jll v1.0.5+3 ⇒ v1.0.5+6\u001b[39m\n",
      " \u001b[90m [1d5cc7b8]\u001b[39m\u001b[93m ↑ IntelOpenMP_jll v2018.0.3+0 ⇒ v2018.0.3+2\u001b[39m\n",
      " \u001b[90m [3587e190]\u001b[39m\u001b[92m + InverseFunctions v0.1.2\u001b[39m\n",
      " \u001b[90m [92d709cd]\u001b[39m\u001b[92m + IrrationalConstants v0.1.1\u001b[39m\n",
      " \u001b[90m [692b3bcd]\u001b[39m\u001b[92m + JLLWrappers v1.3.0\u001b[39m\n",
      " \u001b[90m [c1c5ebd0]\u001b[39m\u001b[93m ↑ LAME_jll v3.100.0+1 ⇒ v3.100.0+3\u001b[39m\n",
      " \u001b[90m [2ab3a3ac]\u001b[39m\u001b[92m + LogExpFunctions v0.3.5\u001b[39m\n",
      " \u001b[90m [e7412a2a]\u001b[39m\u001b[93m ↑ Ogg_jll v1.3.4+0 ⇒ v1.3.4+2\u001b[39m\n",
      " \u001b[90m [458c3c95]\u001b[39m\u001b[93m ↑ OpenSSL_jll v1.1.1+4 ⇒ v1.1.1+6\u001b[39m\n",
      " \u001b[90m [efe28fd5]\u001b[39m\u001b[93m ↑ OpenSpecFun_jll v0.5.3+3 ⇒ v0.5.3+4\u001b[39m\n",
      " \u001b[90m [91d4177d]\u001b[39m\u001b[93m ↑ Opus_jll v1.3.1+1 ⇒ v1.3.1+3\u001b[39m\n",
      " \u001b[90m [21216c6a]\u001b[39m\u001b[92m + Preferences v1.2.2\u001b[39m\n",
      " \u001b[90m [fa267f1f]\u001b[39m\u001b[92m + TOML v1.0.3\u001b[39m\n",
      " \u001b[90m [8f1865be]\u001b[39m\u001b[93m ↑ ZeroMQ_jll v4.3.2+4 ⇒ v4.3.2+6\u001b[39m\n",
      " \u001b[90m [83775a58]\u001b[39m\u001b[93m ↑ Zlib_jll v1.2.11+14 ⇒ v1.2.11+18\u001b[39m\n",
      " \u001b[90m [0ac62f75]\u001b[39m\u001b[93m ↑ libass_jll v0.14.0+2 ⇒ v0.14.0+4\u001b[39m\n",
      " \u001b[90m [f638f0a6]\u001b[39m\u001b[93m ↑ libfdk_aac_jll v0.1.6+2 ⇒ v0.1.6+4\u001b[39m\n",
      " \u001b[90m [b53b4c65]\u001b[39m\u001b[93m ↑ libpng_jll v1.6.37+3 ⇒ v1.6.37+6\u001b[39m\n",
      " \u001b[90m [a9144af2]\u001b[39m\u001b[92m + libsodium_jll v1.0.19+0\u001b[39m\n",
      " \u001b[90m [f27f6e37]\u001b[39m\u001b[93m ↑ libvorbis_jll v1.3.6+4 ⇒ v1.3.6+6\u001b[39m\n",
      " \u001b[90m [dfaa095f]\u001b[39m\u001b[93m ↑ x265_jll v3.0.0+1 ⇒ v3.0.0+3\u001b[39m\n",
      "┌ Info: Precompiling ForwardDiff [f6369f11-7733-5829-9624-2563aa707210]\n",
      "└ @ Base loading.jl:1260\n"
     ]
    }
   ],
   "source": [
    "import Pkg; Pkg.add(\"ForwardDiff\")\n",
    "\n",
    "using ForwardDiff"
   ]
  },
  {
   "cell_type": "code",
   "execution_count": 5,
   "metadata": {
    "slideshow": {
     "slide_type": "slide"
    }
   },
   "outputs": [
    {
     "name": "stdout",
     "output_type": "stream",
     "text": [
      "myfunc = f = f\n",
      "x0 = rand(4, 1) = [0.11399515878115318; 0.42867683846002747; 0.7878765607244491; 0.6853554913361786]\n"
     ]
    },
    {
     "data": {
      "text/plain": [
       "4×4 Array{Float64,2}:\n",
       " -2.65741    -7.4855    0.0       0.0\n",
       " -0.657405   -5.4855    0.0       0.0\n",
       " -0.0568742   0.0       0.373594  0.0\n",
       " -0.365142   -0.195045  0.0       1.40914"
      ]
     },
     "execution_count": 5,
     "metadata": {},
     "output_type": "execute_result"
    }
   ],
   "source": [
    "# Run this for testing\n",
    "@show myfunc = f;\n",
    "@show x0 = rand(4,1) # initial guess, x0\n",
    "\n",
    "ForwardDiff.jacobian(myfunc, x0)"
   ]
  },
  {
   "cell_type": "code",
   "execution_count": 6,
   "metadata": {
    "slideshow": {
     "slide_type": "slide"
    }
   },
   "outputs": [
    {
     "name": "stdout",
     "output_type": "stream",
     "text": [
      "Error: 1.5008753184788795e-6\n"
     ]
    }
   ],
   "source": [
    "# Compare with our finite difference Jacobian\n",
    "A_ad = ForwardDiff.jacobian(myfunc, x0);\n",
    "A_numerical = Jacobian(myfunc, x0)\n",
    "\n",
    "println(\"Error: \", norm(A_ad - A_numerical))"
   ]
  },
  {
   "cell_type": "markdown",
   "metadata": {
    "slideshow": {
     "slide_type": "slide"
    }
   },
   "source": [
    "![not-bad.jpg](https://i.postimg.cc/WzKBHQMM/not-bad.jpg)"
   ]
  },
  {
   "cell_type": "markdown",
   "metadata": {
    "slideshow": {
     "slide_type": "slide"
    }
   },
   "source": [
    "**Remark:** Automatic differentiation (diving inside the method) at this time is beyond ROB 101 scope. A good course to study after ROB 101 is [Introduction to Deep Learning, STAT 157, UC Berkeley, Spring, 2019.](https://c.d2l.ai/berkeley-stat-157/)"
   ]
  },
  {
   "cell_type": "markdown",
   "metadata": {
    "slideshow": {
     "slide_type": "slide"
    }
   },
   "source": [
    "### Newton-Raphson using Automatic Differentiation\n",
    "\n",
    "We now implement our Newton-Raphson algorithm using the autodiff."
   ]
  },
  {
   "cell_type": "code",
   "execution_count": 7,
   "metadata": {
    "slideshow": {
     "slide_type": "slide"
    }
   },
   "outputs": [
    {
     "data": {
      "text/plain": [
       "f (generic function with 1 method)"
      ]
     },
     "execution_count": 7,
     "metadata": {},
     "output_type": "execute_result"
    }
   ],
   "source": [
    "using LinearAlgebra\n",
    "using ForwardDiff\n",
    "\n",
    "function f(x) # f:R^4 -> R^4\n",
    "    f1 = x[1]+2*x[2]-x[1]*(x[1]+4*x[2])-x[2]*(4*x[1]+10*x[2])+3;\n",
    "    f2 = 3*x[1]+4*x[2]-x[1]*(x[1]+4*x[2])-x[2]*(4*x[1]+10*x[2])+4;\n",
    "    f3 = 0.5*cos(x[1])+x[3]-sin(x[3])^7;\n",
    "    f4 = -2*x[2]^2*sin(x[1])+x[4]^3;\n",
    "    return [f1; f2; f3; f4]\n",
    "end"
   ]
  },
  {
   "cell_type": "code",
   "execution_count": 8,
   "metadata": {
    "slideshow": {
     "slide_type": "slide"
    }
   },
   "outputs": [
    {
     "name": "stdout",
     "output_type": "stream",
     "text": [
      "Converged at iteration: N = 7\n",
      "root: [-2.2595730873836666, 1.7595730873836664, 0.31808933104001225, -1.6845806986424827]\n",
      "f(root): [1.7763568394002505e-15, 0.0, -4.5428071027142636e-17, -3.4488767397533593e-10]\n"
     ]
    }
   ],
   "source": [
    "myfunc = f;\n",
    "x0 = [-2.; 3.; π; -1.]; # initial guess\n",
    "delta = 1e-9; # set a convergence threshold\n",
    "# set a max iteration so we don't get stuck in the loop forever!\n",
    "MAX_ITER = 100; \n",
    "N = 1; # counter for iteration\n",
    "x = x0; # root variable\n",
    "# let the fun begin!\n",
    "while N < MAX_ITER\n",
    "    fk = myfunc(x); # evaluate f at current guess, x0\n",
    "    A = ForwardDiff.jacobian(myfunc, x); # compute Jacobian using autodiff\n",
    "    if abs(det(A)) < delta\n",
    "        println(\"Newton-Raphson method did not converge; Jacobian is singular.\")\n",
    "        break\n",
    "    else\n",
    "        dx = -A \\ fk; # solve the linear system\n",
    "    end\n",
    "    if norm(dx) < delta\n",
    "        println(\"Converged at iteration: N = \", N)\n",
    "        break\n",
    "    else\n",
    "        x += dx;\n",
    "    end\n",
    "    N += 1;\n",
    "end\n",
    "\n",
    "print(\"root: \", x, \"\\n\")\n",
    "print(\"f(root): \", myfunc(x), \"\\n\")"
   ]
  }
 ],
 "metadata": {
  "celltoolbar": "Slideshow",
  "kernelspec": {
   "display_name": "Julia 1.4.2",
   "language": "julia",
   "name": "julia-1.4"
  },
  "language_info": {
   "file_extension": ".jl",
   "mimetype": "application/julia",
   "name": "julia",
   "version": "1.4.2"
  }
 },
 "nbformat": 4,
 "nbformat_minor": 4
}
